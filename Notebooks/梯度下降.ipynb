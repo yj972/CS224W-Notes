{
 "cells": [
  {
   "cell_type": "markdown",
   "metadata": {},
   "source": [
    "## 梯度下降原理详解\n",
    "\n",
    "### 基本思想\n",
    "梯度下降是一种优化算法，用于找到函数的最小值。它的基本思想是：\n",
    "- 从某个起点开始\n",
    "- 计算当前点的梯度（导数）\n",
    "- 沿着梯度的反方向（函数下降最快的方向）移动\n",
    "- 重复这个过程直到找到局部最小值\n",
    "\n",
    "### 一维情况举例\n",
    "想象你站在山上某处，目标是找到山谷：\n",
    "- 你会观察当前位置的斜率\n",
    "- 向着斜率最陡的方向走下去\n",
    "- 如果向左斜率为正（上坡），你应该向右走\n",
    "- 如果向右斜率为正（上坡），你应该向左走\n",
    "\n",
    "在一维情况下，更新公式为：\n",
    "$$x_{new} = x_{old} - \\eta \\cdot \\frac{df(x_{old})}{dx}$$\n",
    "\n",
    "其中：\n",
    "- $x_{old}$ 是当前位置\n",
    "- $\\frac{df(x_{old})}{dx}$ 是当前位置的导数（斜率）\n",
    "- $\\eta$ 是学习率（决定步长大小）\n",
    "- $x_{new}$ 是更新后的位置\n",
    "\n",
    "### 多维情况\n",
    "在多维情况下（如嵌入向量），原理相同，但使用梯度向量代替导数：\n",
    "$$\\theta_{new} = \\theta_{old} - \\eta \\cdot \\nabla f(\\theta_{old})$$\n",
    "\n",
    "其中：\n",
    "- $\\theta_{old}$ 是当前参数向量\n",
    "- $\\nabla f(\\theta_{old})$ 是函数关于参数的梯度向量\n",
    "- $\\eta$ 是学习率\n",
    "- $\\theta_{new}$ 是更新后的参数向量\n",
    "\n",
    "### 为什么是减号？\n",
    "我们用减号是因为梯度指向函数值增加最快的方向，而我们想要函数值减小，所以需要朝梯度的反方向移动。\n",
    "\n",
    "### 图嵌入中的运用\n",
    "在图嵌入问题中，我们的目标函数是：\n",
    "$$J(Z) = \\sum_i \\sum_j (A_{ij} - \\mathbf{z}_i^T \\cdot \\mathbf{z}_j)^2$$\n",
    "\n",
    "当我们对特定节点的嵌入向量 $\\mathbf{z}_i$ 求导时，得到：\n",
    "$$\\frac{\\partial J_{ij}}{\\partial \\mathbf{z}_i} = -2(A_{ij} - \\mathbf{z}_i^T \\cdot \\mathbf{z}_j) \\cdot \\mathbf{z}_j$$\n",
    "\n",
    "带入梯度下降公式：\n",
    "$$\\mathbf{z}_i = \\mathbf{z}_i - \\eta \\cdot \\frac{\\partial J_{ij}}{\\partial \\mathbf{z}_i} = \\mathbf{z}_i - \\eta \\cdot (-2 \\cdot \\text{error} \\cdot \\mathbf{z}_j)$$\n",
    "\n",
    "化简得到：\n",
    "$$\\mathbf{z}_i = \\mathbf{z}_i + \\eta \\cdot 2 \\cdot \\text{error} \\cdot \\mathbf{z}_j$$\n",
    "\n",
    "常数2通常被吸收进学习率，最终得到：\n",
    "$$\\mathbf{z}_i = \\mathbf{z}_i + \\eta \\cdot \\text{error} \\cdot \\mathbf{z}_j$$"
   ]
  },
  {
   "cell_type": "markdown",
   "metadata": {},
   "source": []
  }
 ],
 "metadata": {
  "language_info": {
   "name": "python"
  }
 },
 "nbformat": 4,
 "nbformat_minor": 2
}
